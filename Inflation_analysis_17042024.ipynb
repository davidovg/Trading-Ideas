{
 "cells": [
  {
   "cell_type": "code",
   "execution_count": 1,
   "id": "af07da77",
   "metadata": {},
   "outputs": [],
   "source": [
    "import numpy as np\n",
    "import pandas as pd\n",
    "import matplotlib.pyplot as plt\n",
    "import seaborn as sns\n",
    "import matplotlib.pyplot as plt\n",
    "import yfinance as yf\n",
    "from datetime import datetime\n",
    "from pandas_datareader import data as pdr\n",
    "yf.pdr_override()\n",
    "\n",
    "from fredapi import Fred\n",
    "fred = Fred(api_key='fbc80b72f521fbcf3e158643ada0499c')"
   ]
  },
  {
   "cell_type": "markdown",
   "id": "f8762c3b",
   "metadata": {},
   "source": [
    "# Scenario 4: Publicly traded Equity (e.g. common stock)\n"
   ]
  },
  {
   "cell_type": "code",
   "execution_count": null,
   "id": "f0b5fa35",
   "metadata": {},
   "outputs": [],
   "source": []
  },
  {
   "cell_type": "markdown",
   "id": "75d77a12",
   "metadata": {},
   "source": [
    "# Scenario 6: An illiquid security – carbon credits."
   ]
  },
  {
   "cell_type": "markdown",
   "id": "ee4aac14",
   "metadata": {},
   "source": [
    "We will analyze closely the price reactions to major regulatory announecements. One of the important events for the market was the European Green deal which was presented on 11 December 2019"
   ]
  },
  {
   "cell_type": "code",
   "execution_count": 2,
   "id": "73570d2d",
   "metadata": {},
   "outputs": [],
   "source": [
    "cpi2022 = [7, 7.5, 7.9, 8.5, 8.3, 8.6, 9.1, 8.5, 8.3, 8.2, 7.7, 7.1]"
   ]
  },
  {
   "cell_type": "code",
   "execution_count": 3,
   "id": "bb3a5390",
   "metadata": {},
   "outputs": [
    {
     "data": {
      "text/plain": [
       "12"
      ]
     },
     "execution_count": 3,
     "metadata": {},
     "output_type": "execute_result"
    }
   ],
   "source": [
    "len(cpi2022)"
   ]
  },
  {
   "cell_type": "code",
   "execution_count": 4,
   "id": "0f838082",
   "metadata": {},
   "outputs": [],
   "source": [
    "cpi2023 = [6.5, 6.4, 6, 5, 4.9, 4, 3, 3.2, 3.7,3.7,3.2,3.1,3.4]"
   ]
  },
  {
   "cell_type": "code",
   "execution_count": 56,
   "id": "0c7c569f",
   "metadata": {},
   "outputs": [],
   "source": [
    "cpiYoY_1lag = [8.3, 8.6, 9.1, 8.5, 8.3, 8.2, 7.7, 7.1,6.5, 6.4, 6, 5, 4.9, 4]"
   ]
  },
  {
   "cell_type": "code",
   "execution_count": 35,
   "id": "c95de5e0",
   "metadata": {},
   "outputs": [],
   "source": [
    "cpiYoY = [3, 3.2, 3.7,3.7,3.2,3.1,3.4,3.1,3.2,3.5]"
   ]
  },
  {
   "cell_type": "code",
   "execution_count": 36,
   "id": "bcb3272e",
   "metadata": {},
   "outputs": [
    {
     "data": {
      "text/plain": [
       "10"
      ]
     },
     "execution_count": 36,
     "metadata": {},
     "output_type": "execute_result"
    }
   ],
   "source": [
    "len(cpiYoY)"
   ]
  },
  {
   "cell_type": "code",
   "execution_count": 38,
   "id": "fc413073",
   "metadata": {},
   "outputs": [
    {
     "data": {
      "image/png": "[encoded data removed]",
      "text/plain": [
       "<Figure size 640x480 with 1 Axes>"
      ]
     },
     "metadata": {},
     "output_type": "display_data"
    }
   ],
   "source": [
    "# Your data (cpi2022 and cpi2023)\n",
    "# Assuming you have defined these series\n",
    "\n",
    "# Plot the data\n",
    "plt.plot(cpiYoY_1lag, label='CPI 2022-23', linestyle='-')\n",
    "plt.plot(cpiYoY, label='CPI 2023-24', linestyle='-')\n",
    "\n",
    "# Customize the y-axis ticks\n",
    "plt.yticks(range(2, 11, 1))  # Adjust the range and step as needed\n",
    "\n",
    "# Add labels, legend, and title\n",
    "plt.xlabel('Time')\n",
    "plt.ylabel('CPI')\n",
    "plt.title('CPI Data')\n",
    "plt.legend()\n",
    "\n",
    "# Show the plot\n",
    "plt.show()"
   ]
  },
  {
   "cell_type": "code",
   "execution_count": 40,
   "id": "bb03a616",
   "metadata": {},
   "outputs": [
    {
     "name": "stdout",
     "output_type": "stream",
     "text": [
      "[5.3 5.4 5.4 4.8 5.1 5.1 4.3 4.  3.3 2.9]\n"
     ]
    }
   ],
   "source": [
    "# Find the minimum length of the two lists\n",
    "min_length = min(len(cpiYoY_1lag), len(cpiYoY))\n",
    "\n",
    "# Slice both lists to the minimum length\n",
    "cpiYoY_1lag = cpiYoY_1lag[:min_length]\n",
    "cpiYoY = cpiYoY[:min_length]\n",
    "\n",
    "# Convert the lists to NumPy arrays\n",
    "cpiYoY_1lag = np.array(cpiYoY_1lag)\n",
    "cpiYoY = np.array(cpiYoY)\n",
    "\n",
    "# Compute the element-wise difference\n",
    "difference = cpiYoY_1lag - cpiYoY\n",
    "\n",
    "# Now, 'difference' contains the element-wise difference between the aligned arrays\n",
    "print(difference)"
   ]
  },
  {
   "cell_type": "code",
   "execution_count": null,
   "id": "314a256f",
   "metadata": {},
   "outputs": [],
   "source": [
    "# Find the minimum length of the two lists\n",
    "min_length = min(len(cpi2022), len(cpi2023))\n",
    "\n",
    "# Slice both lists to the minimum length\n",
    "cpi2022 = cpi2022[:min_length]\n",
    "cpi2023 = cpi2023[:min_length]\n",
    "\n",
    "# Convert the lists to NumPy arrays\n",
    "cpi2022 = np.array(cpi2022)\n",
    "cpi2023 = np.array(cpi2023)\n",
    "\n",
    "# Compute the element-wise difference\n",
    "difference = cpi2022 - cpi2023\n",
    "\n",
    "# Now, 'difference' contains the element-wise difference between the aligned arrays\n",
    "print(difference)"
   ]
  },
  {
   "cell_type": "code",
   "execution_count": 7,
   "id": "472cff7f",
   "metadata": {},
   "outputs": [
    {
     "data": {
      "text/plain": [
       "array([6.5, 6.4, 6. , 5. , 4.9, 4. , 3. , 3.2, 3.7, 3.7, 3.2])"
      ]
     },
     "execution_count": 7,
     "metadata": {},
     "output_type": "execute_result"
    }
   ],
   "source": [
    "cpi2023"
   ]
  },
  {
   "cell_type": "code",
   "execution_count": 8,
   "id": "aa321633",
   "metadata": {},
   "outputs": [
    {
     "data": {
      "text/plain": [
       "array([7. , 7.5, 7.9, 8.5, 8.3, 8.6, 9.1, 8.5, 8.3, 8.2, 7.7])"
      ]
     },
     "execution_count": 8,
     "metadata": {},
     "output_type": "execute_result"
    }
   ],
   "source": [
    "cpi2022"
   ]
  },
  {
   "cell_type": "code",
   "execution_count": 14,
   "id": "2f1e10a2",
   "metadata": {},
   "outputs": [
    {
     "name": "stdout",
     "output_type": "stream",
     "text": [
      "[*********************100%***********************]  1 of 1 completed\n"
     ]
    }
   ],
   "source": [
    "start = datetime(2005, 1, 1)\n",
    "end = datetime(2024, 4, 17)\n",
    "yf.pdr_override()\n",
    "data = pdr.get_data_yahoo('CL=F', start, end)['Adj Close']"
   ]
  },
  {
   "cell_type": "code",
   "execution_count": 15,
   "id": "4a0d3af4",
   "metadata": {},
   "outputs": [
    {
     "data": {
      "text/plain": [
       "Date\n",
       "2005-01-03    42.119999\n",
       "2005-01-04    43.910000\n",
       "2005-01-05    43.389999\n",
       "2005-01-06    45.560001\n",
       "2005-01-07    45.430000\n",
       "                ...    \n",
       "2024-04-10    86.209999\n",
       "2024-04-11    85.019997\n",
       "2024-04-12    85.660004\n",
       "2024-04-15    85.410004\n",
       "2024-04-16    85.360001\n",
       "Name: Adj Close, Length: 4852, dtype: float64"
      ]
     },
     "execution_count": 15,
     "metadata": {},
     "output_type": "execute_result"
    }
   ],
   "source": [
    "data"
   ]
  },
  {
   "cell_type": "code",
   "execution_count": 16,
   "id": "b53d02d6",
   "metadata": {},
   "outputs": [
    {
     "name": "stdout",
     "output_type": "stream",
     "text": [
      "Date\n",
      "2005-01-31    46.851500\n",
      "2005-02-28    48.053158\n",
      "2005-03-31    54.629546\n",
      "2005-04-30    53.217619\n",
      "2005-05-31    49.870952\n",
      "                ...    \n",
      "2023-12-31    72.123500\n",
      "2024-01-31    73.860952\n",
      "2024-02-29    76.610000\n",
      "2024-03-31    80.405000\n",
      "2024-04-30    85.592501\n",
      "Freq: M, Name: Adj Close, Length: 232, dtype: float64\n"
     ]
    }
   ],
   "source": [
    "monthly_average = data.resample('M').mean()\n",
    "\n",
    "# Print the monthly average\n",
    "print(monthly_average)"
   ]
  },
  {
   "cell_type": "code",
   "execution_count": 41,
   "id": "ede0d0c2",
   "metadata": {},
   "outputs": [],
   "source": [
    "monthly_average2022 = monthly_average['2022-06-17':'2023-06-17']"
   ]
  },
  {
   "cell_type": "code",
   "execution_count": 42,
   "id": "ebbe8e92",
   "metadata": {
    "scrolled": false
   },
   "outputs": [
    {
     "data": {
      "text/plain": [
       "Date\n",
       "2022-06-30    114.339048\n",
       "2022-07-31     99.384500\n",
       "2022-08-31     91.482609\n",
       "2022-09-30     83.801905\n",
       "2022-10-31     87.030952\n",
       "2022-11-30     84.385715\n",
       "2022-12-31     76.518095\n",
       "2023-01-31     78.164000\n",
       "2023-02-28     76.860526\n",
       "2023-03-31     73.372609\n",
       "2023-04-30     79.438422\n",
       "2023-05-31     71.620909\n",
       "Freq: M, Name: Adj Close, dtype: float64"
      ]
     },
     "execution_count": 42,
     "metadata": {},
     "output_type": "execute_result"
    }
   ],
   "source": [
    "monthly_average2022"
   ]
  },
  {
   "cell_type": "code",
   "execution_count": 43,
   "id": "db87a837",
   "metadata": {},
   "outputs": [],
   "source": [
    "df2022 = pd.DataFrame(monthly_average2022)"
   ]
  },
  {
   "cell_type": "code",
   "execution_count": 44,
   "id": "1dc54cbe",
   "metadata": {
    "scrolled": true
   },
   "outputs": [
    {
     "data": {
      "text/html": [
       "<div>\n",
       "<style scoped>\n",
       "    .dataframe tbody tr th:only-of-type {\n",
       "        vertical-align: middle;\n",
       "    }\n",
       "\n",
       "    .dataframe tbody tr th {\n",
       "        vertical-align: top;\n",
       "    }\n",
       "\n",
       "    .dataframe thead th {\n",
       "        text-align: right;\n",
       "    }\n",
       "</style>\n",
       "<table border=\"1\" class=\"dataframe\">\n",
       "  <thead>\n",
       "    <tr style=\"text-align: right;\">\n",
       "      <th></th>\n",
       "      <th>Adj Close</th>\n",
       "    </tr>\n",
       "    <tr>\n",
       "      <th>Date</th>\n",
       "      <th></th>\n",
       "    </tr>\n",
       "  </thead>\n",
       "  <tbody>\n",
       "    <tr>\n",
       "      <th>2022-06-30</th>\n",
       "      <td>114.339048</td>\n",
       "    </tr>\n",
       "    <tr>\n",
       "      <th>2022-07-31</th>\n",
       "      <td>99.384500</td>\n",
       "    </tr>\n",
       "    <tr>\n",
       "      <th>2022-08-31</th>\n",
       "      <td>91.482609</td>\n",
       "    </tr>\n",
       "    <tr>\n",
       "      <th>2022-09-30</th>\n",
       "      <td>83.801905</td>\n",
       "    </tr>\n",
       "    <tr>\n",
       "      <th>2022-10-31</th>\n",
       "      <td>87.030952</td>\n",
       "    </tr>\n",
       "    <tr>\n",
       "      <th>2022-11-30</th>\n",
       "      <td>84.385715</td>\n",
       "    </tr>\n",
       "    <tr>\n",
       "      <th>2022-12-31</th>\n",
       "      <td>76.518095</td>\n",
       "    </tr>\n",
       "    <tr>\n",
       "      <th>2023-01-31</th>\n",
       "      <td>78.164000</td>\n",
       "    </tr>\n",
       "    <tr>\n",
       "      <th>2023-02-28</th>\n",
       "      <td>76.860526</td>\n",
       "    </tr>\n",
       "    <tr>\n",
       "      <th>2023-03-31</th>\n",
       "      <td>73.372609</td>\n",
       "    </tr>\n",
       "    <tr>\n",
       "      <th>2023-04-30</th>\n",
       "      <td>79.438422</td>\n",
       "    </tr>\n",
       "    <tr>\n",
       "      <th>2023-05-31</th>\n",
       "      <td>71.620909</td>\n",
       "    </tr>\n",
       "  </tbody>\n",
       "</table>\n",
       "</div>"
      ],
      "text/plain": [
       "             Adj Close\n",
       "Date                  \n",
       "2022-06-30  114.339048\n",
       "2022-07-31   99.384500\n",
       "2022-08-31   91.482609\n",
       "2022-09-30   83.801905\n",
       "2022-10-31   87.030952\n",
       "2022-11-30   84.385715\n",
       "2022-12-31   76.518095\n",
       "2023-01-31   78.164000\n",
       "2023-02-28   76.860526\n",
       "2023-03-31   73.372609\n",
       "2023-04-30   79.438422\n",
       "2023-05-31   71.620909"
      ]
     },
     "execution_count": 44,
     "metadata": {},
     "output_type": "execute_result"
    }
   ],
   "source": [
    "df2022"
   ]
  },
  {
   "cell_type": "code",
   "execution_count": 45,
   "id": "5ca74905",
   "metadata": {},
   "outputs": [],
   "source": [
    "df2022.reset_index(drop=True, inplace=True)"
   ]
  },
  {
   "cell_type": "code",
   "execution_count": 46,
   "id": "e5834c29",
   "metadata": {},
   "outputs": [
    {
     "data": {
      "text/html": [
       "<div>\n",
       "<style scoped>\n",
       "    .dataframe tbody tr th:only-of-type {\n",
       "        vertical-align: middle;\n",
       "    }\n",
       "\n",
       "    .dataframe tbody tr th {\n",
       "        vertical-align: top;\n",
       "    }\n",
       "\n",
       "    .dataframe thead th {\n",
       "        text-align: right;\n",
       "    }\n",
       "</style>\n",
       "<table border=\"1\" class=\"dataframe\">\n",
       "  <thead>\n",
       "    <tr style=\"text-align: right;\">\n",
       "      <th></th>\n",
       "      <th>Adj Close</th>\n",
       "    </tr>\n",
       "  </thead>\n",
       "  <tbody>\n",
       "    <tr>\n",
       "      <th>0</th>\n",
       "      <td>114.339048</td>\n",
       "    </tr>\n",
       "    <tr>\n",
       "      <th>1</th>\n",
       "      <td>99.384500</td>\n",
       "    </tr>\n",
       "    <tr>\n",
       "      <th>2</th>\n",
       "      <td>91.482609</td>\n",
       "    </tr>\n",
       "    <tr>\n",
       "      <th>3</th>\n",
       "      <td>83.801905</td>\n",
       "    </tr>\n",
       "    <tr>\n",
       "      <th>4</th>\n",
       "      <td>87.030952</td>\n",
       "    </tr>\n",
       "    <tr>\n",
       "      <th>5</th>\n",
       "      <td>84.385715</td>\n",
       "    </tr>\n",
       "    <tr>\n",
       "      <th>6</th>\n",
       "      <td>76.518095</td>\n",
       "    </tr>\n",
       "    <tr>\n",
       "      <th>7</th>\n",
       "      <td>78.164000</td>\n",
       "    </tr>\n",
       "    <tr>\n",
       "      <th>8</th>\n",
       "      <td>76.860526</td>\n",
       "    </tr>\n",
       "    <tr>\n",
       "      <th>9</th>\n",
       "      <td>73.372609</td>\n",
       "    </tr>\n",
       "    <tr>\n",
       "      <th>10</th>\n",
       "      <td>79.438422</td>\n",
       "    </tr>\n",
       "    <tr>\n",
       "      <th>11</th>\n",
       "      <td>71.620909</td>\n",
       "    </tr>\n",
       "  </tbody>\n",
       "</table>\n",
       "</div>"
      ],
      "text/plain": [
       "     Adj Close\n",
       "0   114.339048\n",
       "1    99.384500\n",
       "2    91.482609\n",
       "3    83.801905\n",
       "4    87.030952\n",
       "5    84.385715\n",
       "6    76.518095\n",
       "7    78.164000\n",
       "8    76.860526\n",
       "9    73.372609\n",
       "10   79.438422\n",
       "11   71.620909"
      ]
     },
     "execution_count": 46,
     "metadata": {},
     "output_type": "execute_result"
    }
   ],
   "source": [
    "df2022"
   ]
  },
  {
   "cell_type": "code",
   "execution_count": 47,
   "id": "bf86b2a5",
   "metadata": {},
   "outputs": [],
   "source": [
    "monthly_average2022.reset_index(drop=True, inplace=True)"
   ]
  },
  {
   "cell_type": "code",
   "execution_count": 48,
   "id": "5527891f",
   "metadata": {},
   "outputs": [
    {
     "data": {
      "text/plain": [
       "0     114.339048\n",
       "1      99.384500\n",
       "2      91.482609\n",
       "3      83.801905\n",
       "4      87.030952\n",
       "5      84.385715\n",
       "6      76.518095\n",
       "7      78.164000\n",
       "8      76.860526\n",
       "9      73.372609\n",
       "10     79.438422\n",
       "11     71.620909\n",
       "Name: Adj Close, dtype: float64"
      ]
     },
     "execution_count": 48,
     "metadata": {},
     "output_type": "execute_result"
    }
   ],
   "source": [
    "monthly_average2022"
   ]
  },
  {
   "cell_type": "code",
   "execution_count": 49,
   "id": "26f67756",
   "metadata": {},
   "outputs": [],
   "source": [
    "monthly_average2023 = monthly_average['2023-06-17':'2024-04-17']"
   ]
  },
  {
   "cell_type": "code",
   "execution_count": 50,
   "id": "e16bcfe6",
   "metadata": {},
   "outputs": [
    {
     "data": {
      "text/plain": [
       "Date\n",
       "2023-06-30    70.274285\n",
       "2023-07-31    76.034500\n",
       "2023-08-31    81.320870\n",
       "2023-09-30    89.430500\n",
       "2023-10-31    85.466818\n",
       "2023-11-30    77.330000\n",
       "2023-12-31    72.123500\n",
       "2024-01-31    73.860952\n",
       "2024-02-29    76.610000\n",
       "2024-03-31    80.405000\n",
       "Freq: M, Name: Adj Close, dtype: float64"
      ]
     },
     "execution_count": 50,
     "metadata": {},
     "output_type": "execute_result"
    }
   ],
   "source": [
    "monthly_average2023 "
   ]
  },
  {
   "cell_type": "code",
   "execution_count": 51,
   "id": "45ef25c8",
   "metadata": {
    "scrolled": true
   },
   "outputs": [],
   "source": [
    "monthly_average2023.reset_index(drop=True, inplace=True)"
   ]
  },
  {
   "cell_type": "code",
   "execution_count": 52,
   "id": "5826637a",
   "metadata": {
    "scrolled": true
   },
   "outputs": [
    {
     "name": "stdout",
     "output_type": "stream",
     "text": [
      "[44.06476266 23.35       10.16173885 -5.62859508  1.56413408  7.05571413\n",
      "  4.39459505  4.30304822  0.25052561 -7.03239058]\n"
     ]
    }
   ],
   "source": [
    "# Find the minimum length of the two lists\n",
    "min_length = min(len(monthly_average2023), len(monthly_average2022))\n",
    "\n",
    "# Slice both lists to the minimum length\n",
    "monthly_average2022_ = monthly_average2022[:min_length]\n",
    "monthly_average2023_ = monthly_average2023[:min_length]\n",
    "\n",
    "# Convert the lists to NumPy arrays\n",
    "monthly_average2022_ = np.array(monthly_average2022_)\n",
    "monthly_average2023_ = np.array(monthly_average2023_)\n",
    "\n",
    "# Compute the element-wise difference\n",
    "difference_oil = monthly_average2022_ - monthly_average2023_\n",
    "\n",
    "# Now, 'difference' contains the element-wise difference between the aligned arrays\n",
    "print(difference_oil)"
   ]
  },
  {
   "cell_type": "code",
   "execution_count": 55,
   "id": "2068746d",
   "metadata": {},
   "outputs": [
    {
     "data": {
      "text/plain": [
       "array([8.3, 8.6, 9.1, 8.5, 8.3, 8.2, 7.7, 7.1, 6.5, 6.4])"
      ]
     },
     "execution_count": 55,
     "metadata": {},
     "output_type": "execute_result"
    }
   ],
   "source": [
    "cpiYoY_1lag"
   ]
  },
  {
   "cell_type": "code",
   "execution_count": 57,
   "id": "e4389c05",
   "metadata": {},
   "outputs": [
    {
     "data": {
      "image/png": "[encoded data removed]",
      "text/plain": [
       "<Figure size 800x1000 with 2 Axes>"
      ]
     },
     "metadata": {},
     "output_type": "display_data"
    }
   ],
   "source": [
    "# Create a figure with two subplots\n",
    "fig, (ax1, ax2) = plt.subplots(2, 1, figsize=(8, 10))\n",
    "\n",
    "# Plot data on the first subplot (ax1)\n",
    "ax1.plot(cpiYoY_1lag, label='CPI 2022-23', linestyle='-')\n",
    "ax1.plot(cpiYoY, label='CPI 2023-24', linestyle='-')\n",
    "ax1.set_ylabel('CPI')\n",
    "ax1.set_title('CPI Data')\n",
    "ax1.legend()\n",
    "\n",
    "# Plot data on the second subplot (ax2)\n",
    "ax2.plot(monthly_average2022, label='Monthly Avg 2022', linestyle='-')\n",
    "ax2.plot(monthly_average2023, label='Monthly Avg 2023', linestyle='-')\n",
    "ax2.set_ylabel('Monthly Avg')\n",
    "ax2.set_title('Monthly Average Crude Oil Prices')\n",
    "ax2.legend()\n",
    "\n",
    "# Adjust layout\n",
    "plt.tight_layout()\n",
    "\n",
    "# Show the plot\n",
    "plt.show()"
   ]
  },
  {
   "cell_type": "code",
   "execution_count": null,
   "id": "3e882ab8",
   "metadata": {},
   "outputs": [],
   "source": []
  }
 ],
 "metadata": {
  "kernelspec": {
   "display_name": "Python 3 (ipykernel)",
   "language": "python",
   "name": "python3"
  },
  "language_info": {
   "codemirror_mode": {
    "name": "ipython",
    "version": 3
   },
   "file_extension": ".py",
   "mimetype": "text/x-python",
   "name": "python",
   "nbconvert_exporter": "python",
   "pygments_lexer": "ipython3",
   "version": "3.10.9"
  }
 },
 "nbformat": 4,
 "nbformat_minor": 5
}
